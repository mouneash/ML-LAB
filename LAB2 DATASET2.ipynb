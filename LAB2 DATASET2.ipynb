{
  "nbformat": 4,
  "nbformat_minor": 0,
  "metadata": {
    "colab": {
      "provenance": [],
      "authorship_tag": "ABX9TyNnXkOPiYKCvZsfvCTFKriq",
      "include_colab_link": true
    },
    "kernelspec": {
      "name": "python3",
      "display_name": "Python 3"
    },
    "language_info": {
      "name": "python"
    }
  },
  "cells": [
    {
      "cell_type": "markdown",
      "metadata": {
        "id": "view-in-github",
        "colab_type": "text"
      },
      "source": [
        "<a href=\"https://colab.research.google.com/github/mouneash/ML-LAB/blob/main/LAB2%20DATASET2.ipynb\" target=\"_parent\"><img src=\"https://colab.research.google.com/assets/colab-badge.svg\" alt=\"Open In Colab\"/></a>"
      ]
    },
    {
      "cell_type": "code",
      "execution_count": null,
      "metadata": {
        "id": "M3q-Hz0kLIO4"
      },
      "outputs": [],
      "source": [
        "import numpy as np\n",
        "import pandas as pd"
      ]
    },
    {
      "cell_type": "code",
      "source": [
        "from google.colab import drive\n",
        "drive.mount(\"/content/drive\")"
      ],
      "metadata": {
        "colab": {
          "base_uri": "https://localhost:8080/"
        },
        "id": "luB-vZIZNaP7",
        "outputId": "56343a43-62db-41ef-8e9f-ce654a489f2d"
      },
      "execution_count": null,
      "outputs": [
        {
          "output_type": "stream",
          "name": "stdout",
          "text": [
            "Drive already mounted at /content/drive; to attempt to forcibly remount, call drive.mount(\"/content/drive\", force_remount=True).\n"
          ]
        }
      ]
    },
    {
      "cell_type": "code",
      "source": [
        "path =\"/content/drive/MyDrive/Colab Notebooks/LAB-2 MOUN/LAB-2 DATASET2.csv\""
      ],
      "metadata": {
        "id": "OOklWInjNkyU"
      },
      "execution_count": null,
      "outputs": []
    },
    {
      "cell_type": "code",
      "source": [
        "data = pd.read_csv(path)"
      ],
      "metadata": {
        "id": "M0AjxWkVNwhV"
      },
      "execution_count": null,
      "outputs": []
    },
    {
      "cell_type": "code",
      "source": [
        "print(data,\"\\n\")"
      ],
      "metadata": {
        "colab": {
          "base_uri": "https://localhost:8080/"
        },
        "id": "1jnd8WcHN1gx",
        "outputId": "abd53338-f08d-484c-81da-84149f04444e"
      },
      "execution_count": null,
      "outputs": [
        {
          "output_type": "stream",
          "name": "stdout",
          "text": [
            "  citations    size inLibrary       price editions  buy\n",
            "0      some   small        no  affordable     many   no\n",
            "1      many     big        no   expensive     one   yes\n",
            "2      some     big    always   expensive      few   no\n",
            "3      many  medium        no   expensive     many  yes\n",
            "4      many   small        no  affordable     many  yes \n",
            "\n"
          ]
        }
      ]
    },
    {
      "cell_type": "code",
      "source": [
        "d = np.array(data)[:,:-1]\n",
        "print(\"\\n The attributes are: \",d)"
      ],
      "metadata": {
        "colab": {
          "base_uri": "https://localhost:8080/"
        },
        "id": "igIBNAKlN6LO",
        "outputId": "12953ad3-3d8d-488b-8135-d6115b54b51c"
      },
      "execution_count": null,
      "outputs": [
        {
          "output_type": "stream",
          "name": "stdout",
          "text": [
            "\n",
            " The attributes are:  [['some' 'small' 'no' 'affordable' 'many']\n",
            " ['many' 'big' 'no' 'expensive' 'one ']\n",
            " ['some' 'big' 'always' 'expensive' 'few']\n",
            " ['many' 'medium' 'no' 'expensive' 'many']\n",
            " ['many' 'small' 'no' 'affordable' 'many']]\n"
          ]
        }
      ]
    },
    {
      "cell_type": "code",
      "source": [
        "target = np.array(data)[:,-1]\n",
        "print(\"\\n The target is: \",target)"
      ],
      "metadata": {
        "colab": {
          "base_uri": "https://localhost:8080/"
        },
        "id": "mtN3biwMN_M7",
        "outputId": "f0c2da59-0d9d-4285-cbf5-f10d3724b78e"
      },
      "execution_count": null,
      "outputs": [
        {
          "output_type": "stream",
          "name": "stdout",
          "text": [
            "\n",
            " The target is:  ['no' 'yes' 'no' 'yes' 'yes']\n"
          ]
        }
      ]
    },
    {
      "cell_type": "code",
      "source": [
        "def find_s(data,target):\n",
        "  for i,val in enumerate(target):\n",
        "    if val=='yes':\n",
        "      hypo=data[i].copy()\n",
        "      break\n",
        "  \n",
        "  for i,var in enumerate(data):\n",
        "    if target[i]==\"yes\":\n",
        "      for x in range(len(hypo)):\n",
        "        if var[x]!=hypo[x]:\n",
        "          hypo[x]='?'\n",
        "        else:\n",
        "          pass   \n",
        "\n",
        "  return hypo\n",
        "\n",
        "print(\"The Hypothesis is\",find_s(d,target))"
      ],
      "metadata": {
        "colab": {
          "base_uri": "https://localhost:8080/",
          "height": 201
        },
        "id": "UHTTvy_2OD0M",
        "outputId": "4283bb17-2649-42a8-8932-a9e86339290d"
      },
      "execution_count": 2,
      "outputs": [
        {
          "output_type": "error",
          "ename": "NameError",
          "evalue": "ignored",
          "traceback": [
            "\u001b[0;31m---------------------------------------------------------------------------\u001b[0m",
            "\u001b[0;31mNameError\u001b[0m                                 Traceback (most recent call last)",
            "\u001b[0;32m<ipython-input-2-1670c92cd3f7>\u001b[0m in \u001b[0;36m<cell line: 17>\u001b[0;34m()\u001b[0m\n\u001b[1;32m     15\u001b[0m   \u001b[0;32mreturn\u001b[0m \u001b[0mhypo\u001b[0m\u001b[0;34m\u001b[0m\u001b[0;34m\u001b[0m\u001b[0m\n\u001b[1;32m     16\u001b[0m \u001b[0;34m\u001b[0m\u001b[0m\n\u001b[0;32m---> 17\u001b[0;31m \u001b[0mprint\u001b[0m\u001b[0;34m(\u001b[0m\u001b[0;34m\"The Hypothesis is\"\u001b[0m\u001b[0;34m,\u001b[0m\u001b[0mfind_s\u001b[0m\u001b[0;34m(\u001b[0m\u001b[0md\u001b[0m\u001b[0;34m,\u001b[0m\u001b[0mtarget\u001b[0m\u001b[0;34m)\u001b[0m\u001b[0;34m)\u001b[0m\u001b[0;34m\u001b[0m\u001b[0;34m\u001b[0m\u001b[0m\n\u001b[0m",
            "\u001b[0;31mNameError\u001b[0m: name 'd' is not defined"
          ]
        }
      ]
    },
    {
      "cell_type": "code",
      "source": [],
      "metadata": {
        "id": "SntC1OoLUtiR"
      },
      "execution_count": null,
      "outputs": []
    }
  ]
}