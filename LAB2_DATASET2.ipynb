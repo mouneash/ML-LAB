{
  "nbformat": 4,
  "nbformat_minor": 0,
  "metadata": {
    "colab": {
      "provenance": [],
      "mount_file_id": "1QevkaMUQcI9niJQkNpe3G5NWiy_sfo_a",
      "authorship_tag": "ABX9TyNsRSxkrtOPSnnPKqZ8E3zk",
      "include_colab_link": true
    },
    "kernelspec": {
      "name": "python3",
      "display_name": "Python 3"
    },
    "language_info": {
      "name": "python"
    }
  },
  "cells": [
    {
      "cell_type": "markdown",
      "metadata": {
        "id": "view-in-github",
        "colab_type": "text"
      },
      "source": [
        "<a href=\"https://colab.research.google.com/github/mouneash/ML-LAB/blob/main/LAB2_DATASET2.ipynb\" target=\"_parent\"><img src=\"https://colab.research.google.com/assets/colab-badge.svg\" alt=\"Open In Colab\"/></a>"
      ]
    },
    {
      "cell_type": "code",
      "execution_count": 1,
      "metadata": {
        "id": "0eV30xLjyBH1"
      },
      "outputs": [],
      "source": [
        "import pandas as pd\n",
        "import numpy as np"
      ]
    },
    {
      "cell_type": "code",
      "source": [
        "path=\"/content/drive/MyDrive/Colab Notebooks/LAB-2 MOUN/LAB2- DATASET2.csv\""
      ],
      "metadata": {
        "id": "2q7rvU5AyIO4"
      },
      "execution_count": 2,
      "outputs": []
    },
    {
      "cell_type": "code",
      "source": [
        "data_second=pd.read_csv(path)"
      ],
      "metadata": {
        "id": "ozUrN22Yyxnz"
      },
      "execution_count": 3,
      "outputs": []
    },
    {
      "cell_type": "code",
      "source": [
        "print(data_second,\"\\n\")\n"
      ],
      "metadata": {
        "colab": {
          "base_uri": "https://localhost:8080/"
        },
        "id": "D-ORMmbgy0TS",
        "outputId": "885c9c12-a3b1-4702-f888-7a582dc6edd4"
      },
      "execution_count": 4,
      "outputs": [
        {
          "output_type": "stream",
          "name": "stdout",
          "text": [
            "  citations    size inLibrary       price editions  buy\n",
            "0      some   small        no  affordable     many   no\n",
            "1      many     big        no   expensive     one   yes\n",
            "2      some     big    always   expensive      few   no\n",
            "3      many  medium        no   expensive     many  yes\n",
            "4      many   small        no  affordable     many  yes \n",
            "\n"
          ]
        }
      ]
    },
    {
      "cell_type": "code",
      "source": [
        "d=np.array(data_second)[:,:-1]\n",
        "print(\"attributes are:\",d)"
      ],
      "metadata": {
        "colab": {
          "base_uri": "https://localhost:8080/"
        },
        "id": "r5j0_hw7y26K",
        "outputId": "c6377c7c-b435-4c11-c415-75a2cbff7505"
      },
      "execution_count": 5,
      "outputs": [
        {
          "output_type": "stream",
          "name": "stdout",
          "text": [
            "attributes are: [['some' 'small' 'no' 'affordable' 'many']\n",
            " ['many' 'big' 'no' 'expensive' 'one ']\n",
            " ['some' 'big' 'always' 'expensive' 'few']\n",
            " ['many' 'medium' 'no' 'expensive' 'many']\n",
            " ['many' 'small' 'no' 'affordable' 'many']]\n"
          ]
        }
      ]
    },
    {
      "cell_type": "code",
      "source": [
        "target=np.array(data_second)[:,-1]\n",
        "print(\"target is:\",target)\n"
      ],
      "metadata": {
        "colab": {
          "base_uri": "https://localhost:8080/"
        },
        "id": "RZfoZixKy_z4",
        "outputId": "57df3bc4-c0c4-45e3-b780-ee0fcc27810a"
      },
      "execution_count": 6,
      "outputs": [
        {
          "output_type": "stream",
          "name": "stdout",
          "text": [
            "target is: ['no' 'yes' 'no' 'yes' 'yes']\n"
          ]
        }
      ]
    },
    {
      "cell_type": "code",
      "source": [
        "def find_s(data,target):\n",
        "  for i,val in enumerate(target):\n",
        "    if val=='yes':\n",
        "      hypo=data[i].copy()\n",
        "      break\n",
        "  \n",
        "  for i,var in enumerate(data):\n",
        "    if target[i]==\"yes\":\n",
        "      for x in range(len(hypo)):\n",
        "        if var[x]!=hypo[x]:\n",
        "          hypo[x]='?'\n",
        "        else:\n",
        "          pass   \n",
        "\n",
        "  return hypo\n",
        "\n",
        "print(\"The Hypothesis is\",find_s(d,target))"
      ],
      "metadata": {
        "colab": {
          "base_uri": "https://localhost:8080/"
        },
        "id": "XNoqspkczDCP",
        "outputId": "669b9fdf-a958-49fd-fb61-83d9d63d436f"
      },
      "execution_count": 7,
      "outputs": [
        {
          "output_type": "stream",
          "name": "stdout",
          "text": [
            "The Hypothesis is ['many' '?' 'no' '?' '?']\n"
          ]
        }
      ]
    }
  ]
}